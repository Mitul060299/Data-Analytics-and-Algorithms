{
 "cells": [
  {
   "cell_type": "markdown",
   "id": "47fa5690-fc21-4458-9adb-2c2ea2a476bc",
   "metadata": {},
   "source": [
    "# Logistic Regression\n",
    "\n",
    "**Name - Mitul Srivastava**\n",
    "\n",
    "**ID - C00313606**\n"
   ]
  },
  {
   "cell_type": "markdown",
   "id": "f0fbe5ee-97d6-4f57-90f4-0e303203bdef",
   "metadata": {},
   "source": [
    "## **LOG** : Introduction to dataset\n",
    "### **DATASET** : Titanic dataset\n",
    "### **DETAIL** : The dataset has 6 columns like survived, pclass, sex, age, fare, embarked.\n",
    "### **AIM** : To train and fine tune Logistic Regression model to predict if passenger survived or not. "
   ]
  },
  {
   "cell_type": "code",
   "execution_count": 2,
   "id": "8b95e563-8392-4f97-83d5-5b18759bcbdf",
   "metadata": {},
   "outputs": [],
   "source": [
    "import pandas as pd\n",
    "import numpy as np\n",
    "import matplotlib.pyplot as plt\n",
    "import seaborn as sns\n",
    "from sklearn.model_selection import train_test_split\n",
    "from sklearn.preprocessing import StandardScaler\n",
    "from sklearn.linear_model import LogisticRegression\n",
    "from sklearn.metrics import accuracy_score, classification_report, confusion_matrix"
   ]
  },
  {
   "cell_type": "markdown",
   "id": "d0251e47-2b82-447e-a94a-858703cff82b",
   "metadata": {},
   "source": [
    "## **LOG:** Importing the dataset from seaborn"
   ]
  },
  {
   "cell_type": "code",
   "execution_count": 3,
   "id": "45da43a9-6842-4c7c-a928-f9558bd27bad",
   "metadata": {},
   "outputs": [
    {
     "name": "stdout",
     "output_type": "stream",
     "text": [
      "   survived  pclass     sex   age  sibsp  parch     fare embarked  class  \\\n",
      "0         0       3    male  22.0      1      0   7.2500        S  Third   \n",
      "1         1       1  female  38.0      1      0  71.2833        C  First   \n",
      "2         1       3  female  26.0      0      0   7.9250        S  Third   \n",
      "3         1       1  female  35.0      1      0  53.1000        S  First   \n",
      "4         0       3    male  35.0      0      0   8.0500        S  Third   \n",
      "\n",
      "     who  adult_male deck  embark_town alive  alone  \n",
      "0    man        True  NaN  Southampton    no  False  \n",
      "1  woman       False    C    Cherbourg   yes  False  \n",
      "2  woman       False  NaN  Southampton   yes   True  \n",
      "3  woman       False    C  Southampton   yes  False  \n",
      "4    man        True  NaN  Southampton    no   True  \n"
     ]
    }
   ],
   "source": [
    "df = sns.load_dataset(\"titanic\")\n",
    "print(df.head())"
   ]
  },
  {
   "cell_type": "code",
   "execution_count": 8,
   "id": "872f666e-d1ef-4e9e-9f88-46329d5f4de6",
   "metadata": {},
   "outputs": [
    {
     "name": "stdout",
     "output_type": "stream",
     "text": [
      "<class 'pandas.core.frame.DataFrame'>\n",
      "Index: 712 entries, 0 to 890\n",
      "Data columns (total 6 columns):\n",
      " #   Column    Non-Null Count  Dtype  \n",
      "---  ------    --------------  -----  \n",
      " 0   survived  712 non-null    int64  \n",
      " 1   pclass    712 non-null    int64  \n",
      " 2   sex       712 non-null    int64  \n",
      " 3   age       712 non-null    float64\n",
      " 4   fare      712 non-null    float64\n",
      " 5   embarked  712 non-null    int64  \n",
      "dtypes: float64(2), int64(4)\n",
      "memory usage: 38.9 KB\n"
     ]
    }
   ],
   "source": [
    "df.info()"
   ]
  },
  {
   "cell_type": "markdown",
   "id": "8312f848-f2e9-4418-b390-4d9eec9c8d25",
   "metadata": {},
   "source": [
    "## **LOG:** Data Preprocessing steps:\n",
    "## 1. Droping irrelevant columns.\n",
    "## 2. Handling missing values.\n",
    "## 3. Converting categorical data into numerical values.\n",
    "## 4. Normalizing numerical features."
   ]
  },
  {
   "cell_type": "code",
   "execution_count": 4,
   "id": "e2605c53-84a3-45bf-9246-f94dc357bc39",
   "metadata": {},
   "outputs": [],
   "source": [
    "df = df[['survived', 'pclass', 'sex', 'age', 'fare', 'embarked']]\n",
    "df.dropna(inplace=True)\n",
    "df['sex'] = df['sex'].map({'male': 0, 'female': 1})\n",
    "df['embarked'] = df['embarked'].map({'C': 0, 'Q': 1, 'S': 2})\n",
    "\n",
    "X = df.drop(columns=['survived'])\n",
    "y = df['survived']\n",
    "\n",
    "scaler = StandardScaler()\n",
    "X = scaler.fit_transform(X)\n",
    "\n",
    "X_train, X_test, y_train, y_test = train_test_split(X, y, test_size=0.2, random_state=42)"
   ]
  },
  {
   "cell_type": "markdown",
   "id": "ce5b423c-047f-4767-a26d-75d5e1566c86",
   "metadata": {},
   "source": [
    "## **LOG:** Training and evaluating Logistic Regression Model"
   ]
  },
  {
   "cell_type": "code",
   "execution_count": 5,
   "id": "f3bb103e-6424-461a-881d-e0fa7b83a5bf",
   "metadata": {},
   "outputs": [
    {
     "name": "stdout",
     "output_type": "stream",
     "text": [
      "Accuracy: 0.7902\n",
      "Classification Report:\n",
      "               precision    recall  f1-score   support\n",
      "\n",
      "           0       0.76      0.91      0.83        80\n",
      "           1       0.85      0.63      0.73        63\n",
      "\n",
      "    accuracy                           0.79       143\n",
      "   macro avg       0.81      0.77      0.78       143\n",
      "weighted avg       0.80      0.79      0.78       143\n",
      "\n",
      "Confusion Matrix:\n",
      " [[73  7]\n",
      " [23 40]]\n"
     ]
    }
   ],
   "source": [
    "model = LogisticRegression()\n",
    "model.fit(X_train, y_train)\n",
    "y_pred = model.predict(X_test)\n",
    "\n",
    "print(f\"Accuracy: {accuracy_score(y_test, y_pred):.4f}\")\n",
    "print(\"Classification Report:\\n\", classification_report(y_test, y_pred))\n",
    "print(\"Confusion Matrix:\\n\", confusion_matrix(y_test, y_pred))"
   ]
  },
  {
   "cell_type": "markdown",
   "id": "104ed6ab-0e0b-402b-b8de-ba78e9d77969",
   "metadata": {},
   "source": [
    "## **LOG:** Improving Model Performance\n",
    "## Using GridSearchCV to find the best hyperparameters.\n",
    "## Trying different solvers and regularization strengths."
   ]
  },
  {
   "cell_type": "code",
   "execution_count": 6,
   "id": "1c413905-a21b-42fd-82bb-02b29055dfac",
   "metadata": {},
   "outputs": [
    {
     "name": "stdout",
     "output_type": "stream",
     "text": [
      "Best Parameters: {'C': 0.01, 'solver': 'lbfgs'}\n",
      "Improved Accuracy: 0.7902\n",
      "Improved Classification Report:\n",
      "               precision    recall  f1-score   support\n",
      "\n",
      "           0       0.75      0.94      0.83        80\n",
      "           1       0.88      0.60      0.72        63\n",
      "\n",
      "    accuracy                           0.79       143\n",
      "   macro avg       0.82      0.77      0.78       143\n",
      "weighted avg       0.81      0.79      0.78       143\n",
      "\n",
      "Improved Confusion Matrix:\n",
      " [[75  5]\n",
      " [25 38]]\n"
     ]
    }
   ],
   "source": [
    "from sklearn.model_selection import GridSearchCV\n",
    "\n",
    "param_grid = {'C': [0.01, 0.1, 1, 10, 100], 'solver': ['liblinear', 'lbfgs']}\n",
    "grid = GridSearchCV(LogisticRegression(), param_grid, cv=5, scoring='accuracy')\n",
    "grid.fit(X_train, y_train)\n",
    "\n",
    "print(\"Best Parameters:\", grid.best_params_)\n",
    "best_model = grid.best_estimator_\n",
    "y_pred_best = best_model.predict(X_test)\n",
    "\n",
    "print(f\"Improved Accuracy: {accuracy_score(y_test, y_pred_best):.4f}\")\n",
    "print(\"Improved Classification Report:\\n\", classification_report(y_test, y_pred_best))\n",
    "print(\"Improved Confusion Matrix:\\n\", confusion_matrix(y_test, y_pred_best))\n"
   ]
  },
  {
   "cell_type": "markdown",
   "id": "4a8f909f-3300-400c-a095-b5544b86c125",
   "metadata": {},
   "source": [
    "### **REFERENCES** :\n",
    "### https://chatgpt.com/\n",
    "### https://www.kaggle.com/"
   ]
  },
  {
   "cell_type": "markdown",
   "id": "a6700b4d-e26f-41c5-9969-911eaa2918c6",
   "metadata": {},
   "source": [
    "## **END**"
   ]
  },
  {
   "cell_type": "code",
   "execution_count": null,
   "id": "b098fa4f-27e5-4efe-8309-50ce3639eb7e",
   "metadata": {},
   "outputs": [],
   "source": []
  }
 ],
 "metadata": {
  "kernelspec": {
   "display_name": "Python 3 (ipykernel)",
   "language": "python",
   "name": "python3"
  },
  "language_info": {
   "codemirror_mode": {
    "name": "ipython",
    "version": 3
   },
   "file_extension": ".py",
   "mimetype": "text/x-python",
   "name": "python",
   "nbconvert_exporter": "python",
   "pygments_lexer": "ipython3",
   "version": "3.11.9"
  }
 },
 "nbformat": 4,
 "nbformat_minor": 5
}
