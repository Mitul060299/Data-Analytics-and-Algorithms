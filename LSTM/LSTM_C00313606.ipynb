{
 "cells": [
  {
   "cell_type": "markdown",
   "id": "e5b6148d-0c22-46a2-81c6-51c0cb69dcbe",
   "metadata": {},
   "source": [
    "# Long Short Term Memory\n",
    "\n",
    "**Name - Mitul Srivastava**\n",
    "\n",
    "**ID - C00313606**"
   ]
  },
  {
   "cell_type": "markdown",
   "id": "879e44d2-2820-4515-a635-59a8b5d146f0",
   "metadata": {},
   "source": [
    "## **LOG** : Introduction to dataset\n",
    "### **DATASET** : Jena Climate Dataset\n",
    "### **DETAIL** : The Jena Climate dataset contains weather data collected every 10 minutes over several years.\n",
    "### **AIM** : To train and fine tune LSTM to correctly forecast the weather. "
   ]
  },
  {
   "cell_type": "code",
   "execution_count": 2,
   "id": "5a106f8b-e859-4f8d-96f5-773869a6ba9b",
   "metadata": {},
   "outputs": [],
   "source": [
    "import tensorflow as tf\n",
    "from tensorflow import keras\n",
    "import numpy as np\n",
    "import pandas as pd\n",
    "import matplotlib.pyplot as plt"
   ]
  },
  {
   "cell_type": "markdown",
   "id": "9cb5cfb6-6aca-437f-b14a-f52bd7a66174",
   "metadata": {},
   "source": [
    "## **LOG:** Loading Jena Climate Dataset using pandas."
   ]
  },
  {
   "cell_type": "code",
   "execution_count": 3,
   "id": "03809860-2cf5-419e-8ee0-b0cbc1117928",
   "metadata": {},
   "outputs": [],
   "source": [
    "df = pd.read_csv(\"https://raw.githubusercontent.com/jbrownlee/Datasets/master/daily-min-temperatures.csv\")\n",
    "df['Date'] = pd.to_datetime(df['Date'])\n",
    "df.set_index('Date', inplace=True)"
   ]
  },
  {
   "cell_type": "markdown",
   "id": "f2f702de-84df-4306-ad33-0fb0ffa1e4cc",
   "metadata": {},
   "source": [
    "## **LOG:** Preprocessing the data\n",
    "## Normalizing the temperature values using min-max scaling.\n",
    "## Creating sequences of past observations as input and future values as output."
   ]
  },
  {
   "cell_type": "code",
   "execution_count": 4,
   "id": "34537e8c-2628-4071-a4d1-102cb2660e24",
   "metadata": {},
   "outputs": [],
   "source": [
    "from sklearn.preprocessing import MinMaxScaler\n",
    "\n",
    "scaler = MinMaxScaler()\n",
    "df_scaled = scaler.fit_transform(df)\n",
    "\n",
    "sequence_length = 30  # Use past 30 days to predict the next day\n",
    "def create_sequences(data, seq_length):\n",
    "    X, y = [], []\n",
    "    for i in range(len(data) - seq_length):\n",
    "        X.append(data[i:i+seq_length])\n",
    "        y.append(data[i+seq_length])\n",
    "    return np.array(X), np.array(y)\n",
    "\n",
    "X, y = create_sequences(df_scaled, sequence_length)\n",
    "train_size = int(len(X) * 0.8)\n",
    "X_train, X_test = X[:train_size], X[train_size:]\n",
    "y_train, y_test = y[:train_size], y[train_size:]"
   ]
  },
  {
   "cell_type": "markdown",
   "id": "aebe174f-e5bb-412a-85c3-84a0465ccd35",
   "metadata": {},
   "source": [
    "## **LOG:** Define the LSTM model\n",
    "## LSTM: Captures temporal dependencies.\n",
    "## Dense: Fully connected layers for prediction."
   ]
  },
  {
   "cell_type": "code",
   "execution_count": 6,
   "id": "93469a0b-8e17-4c1e-9a80-87b1af0f16f5",
   "metadata": {},
   "outputs": [],
   "source": [
    "model = keras.Sequential([\n",
    "    keras.layers.LSTM(64, return_sequences=True, input_shape=(sequence_length, 1)),\n",
    "    keras.layers.LSTM(32),\n",
    "    keras.layers.Dense(1)\n",
    "])\n"
   ]
  },
  {
   "cell_type": "code",
   "execution_count": 7,
   "id": "e308d055-e527-4684-98c7-717c9b040b59",
   "metadata": {},
   "outputs": [],
   "source": [
    "model.compile(optimizer='adam', loss='mse')"
   ]
  },
  {
   "cell_type": "code",
   "execution_count": 8,
   "id": "2a9a4875-d50c-4d4b-a508-c9b244f699f4",
   "metadata": {},
   "outputs": [
    {
     "name": "stdout",
     "output_type": "stream",
     "text": [
      "Epoch 1/10\n",
      "\u001b[1m91/91\u001b[0m \u001b[32m━━━━━━━━━━━━━━━━━━━━\u001b[0m\u001b[37m\u001b[0m \u001b[1m11s\u001b[0m 52ms/step - loss: 0.0382 - val_loss: 0.0100\n",
      "Epoch 2/10\n",
      "\u001b[1m91/91\u001b[0m \u001b[32m━━━━━━━━━━━━━━━━━━━━\u001b[0m\u001b[37m\u001b[0m \u001b[1m4s\u001b[0m 43ms/step - loss: 0.0121 - val_loss: 0.0102\n",
      "Epoch 3/10\n",
      "\u001b[1m91/91\u001b[0m \u001b[32m━━━━━━━━━━━━━━━━━━━━\u001b[0m\u001b[37m\u001b[0m \u001b[1m5s\u001b[0m 51ms/step - loss: 0.0120 - val_loss: 0.0096\n",
      "Epoch 4/10\n",
      "\u001b[1m91/91\u001b[0m \u001b[32m━━━━━━━━━━━━━━━━━━━━\u001b[0m\u001b[37m\u001b[0m \u001b[1m4s\u001b[0m 44ms/step - loss: 0.0116 - val_loss: 0.0106\n",
      "Epoch 5/10\n",
      "\u001b[1m91/91\u001b[0m \u001b[32m━━━━━━━━━━━━━━━━━━━━\u001b[0m\u001b[37m\u001b[0m \u001b[1m4s\u001b[0m 41ms/step - loss: 0.0117 - val_loss: 0.0092\n",
      "Epoch 6/10\n",
      "\u001b[1m91/91\u001b[0m \u001b[32m━━━━━━━━━━━━━━━━━━━━\u001b[0m\u001b[37m\u001b[0m \u001b[1m4s\u001b[0m 44ms/step - loss: 0.0109 - val_loss: 0.0088\n",
      "Epoch 7/10\n",
      "\u001b[1m91/91\u001b[0m \u001b[32m━━━━━━━━━━━━━━━━━━━━\u001b[0m\u001b[37m\u001b[0m \u001b[1m4s\u001b[0m 46ms/step - loss: 0.0106 - val_loss: 0.0086\n",
      "Epoch 8/10\n",
      "\u001b[1m91/91\u001b[0m \u001b[32m━━━━━━━━━━━━━━━━━━━━\u001b[0m\u001b[37m\u001b[0m \u001b[1m4s\u001b[0m 42ms/step - loss: 0.0105 - val_loss: 0.0083\n",
      "Epoch 9/10\n",
      "\u001b[1m91/91\u001b[0m \u001b[32m━━━━━━━━━━━━━━━━━━━━\u001b[0m\u001b[37m\u001b[0m \u001b[1m4s\u001b[0m 45ms/step - loss: 0.0099 - val_loss: 0.0078\n",
      "Epoch 10/10\n",
      "\u001b[1m91/91\u001b[0m \u001b[32m━━━━━━━━━━━━━━━━━━━━\u001b[0m\u001b[37m\u001b[0m \u001b[1m4s\u001b[0m 41ms/step - loss: 0.0091 - val_loss: 0.0074\n"
     ]
    },
    {
     "data": {
      "text/plain": [
       "<keras.src.callbacks.history.History at 0x2622d360a10>"
      ]
     },
     "execution_count": 8,
     "metadata": {},
     "output_type": "execute_result"
    }
   ],
   "source": [
    "model.fit(X_train, y_train, epochs=10, validation_data=(X_test, y_test))"
   ]
  },
  {
   "cell_type": "code",
   "execution_count": 9,
   "id": "db83ed39-632c-4278-9e78-add5429d330b",
   "metadata": {},
   "outputs": [
    {
     "name": "stdout",
     "output_type": "stream",
     "text": [
      "\u001b[1m23/23\u001b[0m \u001b[32m━━━━━━━━━━━━━━━━━━━━\u001b[0m\u001b[37m\u001b[0m \u001b[1m0s\u001b[0m 19ms/step - loss: 0.0069\n",
      "Test Loss: 0.0074\n"
     ]
    }
   ],
   "source": [
    "test_loss = model.evaluate(X_test, y_test)\n",
    "print(f\"Test Loss: {test_loss:.4f}\")"
   ]
  },
  {
   "cell_type": "markdown",
   "id": "31e8ff99-59e0-4d18-811d-50eaf49fc182",
   "metadata": {},
   "source": [
    "## **LOG:** Enhancementsing model performance\n",
    "## Increasing LSTM units for better feature extraction.\n",
    "## Adding Dropout layers to reduce overfitting.\n",
    "## Increasing training epochs."
   ]
  },
  {
   "cell_type": "code",
   "execution_count": 10,
   "id": "57621ed6-b041-40b5-bd8d-7b414eafacf1",
   "metadata": {},
   "outputs": [],
   "source": [
    "model_improved = keras.Sequential([\n",
    "    keras.layers.LSTM(128, return_sequences=True, input_shape=(sequence_length, 1)),\n",
    "    keras.layers.LSTM(64),\n",
    "    keras.layers.Dropout(0.3),\n",
    "    keras.layers.Dense(1)\n",
    "])"
   ]
  },
  {
   "cell_type": "code",
   "execution_count": 11,
   "id": "a95f8c0e-feaa-48a4-951d-f8ac9eaf3b60",
   "metadata": {},
   "outputs": [
    {
     "name": "stdout",
     "output_type": "stream",
     "text": [
      "Epoch 1/20\n",
      "\u001b[1m91/91\u001b[0m \u001b[32m━━━━━━━━━━━━━━━━━━━━\u001b[0m\u001b[37m\u001b[0m \u001b[1m13s\u001b[0m 77ms/step - loss: 0.0384 - val_loss: 0.0100\n",
      "Epoch 2/20\n",
      "\u001b[1m91/91\u001b[0m \u001b[32m━━━━━━━━━━━━━━━━━━━━\u001b[0m\u001b[37m\u001b[0m \u001b[1m6s\u001b[0m 69ms/step - loss: 0.0124 - val_loss: 0.0097\n",
      "Epoch 3/20\n",
      "\u001b[1m91/91\u001b[0m \u001b[32m━━━━━━━━━━━━━━━━━━━━\u001b[0m\u001b[37m\u001b[0m \u001b[1m8s\u001b[0m 83ms/step - loss: 0.0133 - val_loss: 0.0097\n",
      "Epoch 4/20\n",
      "\u001b[1m91/91\u001b[0m \u001b[32m━━━━━━━━━━━━━━━━━━━━\u001b[0m\u001b[37m\u001b[0m \u001b[1m6s\u001b[0m 65ms/step - loss: 0.0132 - val_loss: 0.0093\n",
      "Epoch 5/20\n",
      "\u001b[1m91/91\u001b[0m \u001b[32m━━━━━━━━━━━━━━━━━━━━\u001b[0m\u001b[37m\u001b[0m \u001b[1m7s\u001b[0m 73ms/step - loss: 0.0133 - val_loss: 0.0093\n",
      "Epoch 6/20\n",
      "\u001b[1m91/91\u001b[0m \u001b[32m━━━━━━━━━━━━━━━━━━━━\u001b[0m\u001b[37m\u001b[0m \u001b[1m7s\u001b[0m 73ms/step - loss: 0.0124 - val_loss: 0.0091\n",
      "Epoch 7/20\n",
      "\u001b[1m91/91\u001b[0m \u001b[32m━━━━━━━━━━━━━━━━━━━━\u001b[0m\u001b[37m\u001b[0m \u001b[1m7s\u001b[0m 71ms/step - loss: 0.0127 - val_loss: 0.0088\n",
      "Epoch 8/20\n",
      "\u001b[1m91/91\u001b[0m \u001b[32m━━━━━━━━━━━━━━━━━━━━\u001b[0m\u001b[37m\u001b[0m \u001b[1m7s\u001b[0m 71ms/step - loss: 0.0115 - val_loss: 0.0086\n",
      "Epoch 9/20\n",
      "\u001b[1m91/91\u001b[0m \u001b[32m━━━━━━━━━━━━━━━━━━━━\u001b[0m\u001b[37m\u001b[0m \u001b[1m6s\u001b[0m 68ms/step - loss: 0.0114 - val_loss: 0.0085\n",
      "Epoch 10/20\n",
      "\u001b[1m91/91\u001b[0m \u001b[32m━━━━━━━━━━━━━━━━━━━━\u001b[0m\u001b[37m\u001b[0m \u001b[1m7s\u001b[0m 75ms/step - loss: 0.0113 - val_loss: 0.0078\n",
      "Epoch 11/20\n",
      "\u001b[1m91/91\u001b[0m \u001b[32m━━━━━━━━━━━━━━━━━━━━\u001b[0m\u001b[37m\u001b[0m \u001b[1m6s\u001b[0m 68ms/step - loss: 0.0105 - val_loss: 0.0076\n",
      "Epoch 12/20\n",
      "\u001b[1m91/91\u001b[0m \u001b[32m━━━━━━━━━━━━━━━━━━━━\u001b[0m\u001b[37m\u001b[0m \u001b[1m6s\u001b[0m 71ms/step - loss: 0.0108 - val_loss: 0.0073\n",
      "Epoch 13/20\n",
      "\u001b[1m91/91\u001b[0m \u001b[32m━━━━━━━━━━━━━━━━━━━━\u001b[0m\u001b[37m\u001b[0m \u001b[1m6s\u001b[0m 69ms/step - loss: 0.0106 - val_loss: 0.0073\n",
      "Epoch 14/20\n",
      "\u001b[1m91/91\u001b[0m \u001b[32m━━━━━━━━━━━━━━━━━━━━\u001b[0m\u001b[37m\u001b[0m \u001b[1m4s\u001b[0m 48ms/step - loss: 0.0106 - val_loss: 0.0073\n",
      "Epoch 15/20\n",
      "\u001b[1m91/91\u001b[0m \u001b[32m━━━━━━━━━━━━━━━━━━━━\u001b[0m\u001b[37m\u001b[0m \u001b[1m6s\u001b[0m 65ms/step - loss: 0.0101 - val_loss: 0.0074\n",
      "Epoch 16/20\n",
      "\u001b[1m91/91\u001b[0m \u001b[32m━━━━━━━━━━━━━━━━━━━━\u001b[0m\u001b[37m\u001b[0m \u001b[1m6s\u001b[0m 67ms/step - loss: 0.0100 - val_loss: 0.0074\n",
      "Epoch 17/20\n",
      "\u001b[1m91/91\u001b[0m \u001b[32m━━━━━━━━━━━━━━━━━━━━\u001b[0m\u001b[37m\u001b[0m \u001b[1m5s\u001b[0m 58ms/step - loss: 0.0102 - val_loss: 0.0072\n",
      "Epoch 18/20\n",
      "\u001b[1m91/91\u001b[0m \u001b[32m━━━━━━━━━━━━━━━━━━━━\u001b[0m\u001b[37m\u001b[0m \u001b[1m6s\u001b[0m 68ms/step - loss: 0.0098 - val_loss: 0.0071\n",
      "Epoch 19/20\n",
      "\u001b[1m91/91\u001b[0m \u001b[32m━━━━━━━━━━━━━━━━━━━━\u001b[0m\u001b[37m\u001b[0m \u001b[1m7s\u001b[0m 73ms/step - loss: 0.0095 - val_loss: 0.0072\n",
      "Epoch 20/20\n",
      "\u001b[1m91/91\u001b[0m \u001b[32m━━━━━━━━━━━━━━━━━━━━\u001b[0m\u001b[37m\u001b[0m \u001b[1m7s\u001b[0m 73ms/step - loss: 0.0097 - val_loss: 0.0080\n"
     ]
    },
    {
     "data": {
      "text/plain": [
       "<keras.src.callbacks.history.History at 0x26230b22110>"
      ]
     },
     "execution_count": 11,
     "metadata": {},
     "output_type": "execute_result"
    }
   ],
   "source": [
    "model_improved.compile(optimizer='adam', loss='mse')\n",
    "model_improved.fit(X_train, y_train, epochs=20, validation_data=(X_test, y_test))"
   ]
  },
  {
   "cell_type": "markdown",
   "id": "44fe63fc-c18e-43ac-a18a-4ed1f7f8cd74",
   "metadata": {},
   "source": [
    "## **LOG** : Evaluating the improved model.\n",
    "## We observe that the after modification the new models test loss increased from 0.0074 to 0.0080."
   ]
  },
  {
   "cell_type": "code",
   "execution_count": 12,
   "id": "19abad92-2eed-4975-a86a-c3f8318bee33",
   "metadata": {},
   "outputs": [
    {
     "name": "stdout",
     "output_type": "stream",
     "text": [
      "\u001b[1m23/23\u001b[0m \u001b[32m━━━━━━━━━━━━━━━━━━━━\u001b[0m\u001b[37m\u001b[0m \u001b[1m1s\u001b[0m 54ms/step - loss: 0.0072\n",
      "Improved Test Loss: 0.0080\n"
     ]
    }
   ],
   "source": [
    "test_loss = model_improved.evaluate(X_test, y_test)\n",
    "print(f\"Improved Test Loss: {test_loss:.4f}\")"
   ]
  },
  {
   "cell_type": "markdown",
   "id": "2c4660ed-0b29-4bfc-a229-5265e6676f56",
   "metadata": {},
   "source": [
    "### **REFERENCES** :\n",
    "### https://chatgpt.com/\n",
    "### https://www.perplexity.ai/\n",
    "### https://github.com/trekhleb/machine-learning-experiments\n",
    "### https://raw.githubusercontent.com/jbrownlee/Datasets/master/daily-min-temperatures.csv"
   ]
  },
  {
   "cell_type": "markdown",
   "id": "c03e5df9-b423-4e59-992b-50fa0d16f866",
   "metadata": {},
   "source": [
    "## **END**"
   ]
  },
  {
   "cell_type": "code",
   "execution_count": null,
   "id": "973b0c45-f4aa-4f15-bd44-15555564c900",
   "metadata": {},
   "outputs": [],
   "source": []
  }
 ],
 "metadata": {
  "kernelspec": {
   "display_name": "Python 3 (ipykernel)",
   "language": "python",
   "name": "python3"
  },
  "language_info": {
   "codemirror_mode": {
    "name": "ipython",
    "version": 3
   },
   "file_extension": ".py",
   "mimetype": "text/x-python",
   "name": "python",
   "nbconvert_exporter": "python",
   "pygments_lexer": "ipython3",
   "version": "3.11.9"
  }
 },
 "nbformat": 4,
 "nbformat_minor": 5
}
