{
 "cells": [
  {
   "cell_type": "markdown",
   "id": "90a4e6b2-6ac0-42eb-9a54-447d315baded",
   "metadata": {},
   "source": [
    "# K-Nearest Neighbour (KNN)\n",
    "\n",
    "**Name - Mitul Srivastava**\n",
    "\n",
    "**ID - C00313606**"
   ]
  },
  {
   "cell_type": "markdown",
   "id": "e5b3b5f0-f6ef-4d8e-8136-57a547381213",
   "metadata": {},
   "source": [
    "## **LOG** : Introduction to dataset and importing the data.\n",
    "### **Dataset** :  Drug Classification dataset\n",
    "### **Link** : https://www.kaggle.com/datasets/prathamtripathi/drug-classification\n",
    "### **Details** : The datset contains total 6 columns with 5 features to predict the type of drug.\n",
    "### **AIM** : To use and fine tune KNN algorithm to classify drug type."
   ]
  },
  {
   "cell_type": "code",
   "execution_count": 3,
   "id": "ba27e392-f0e2-4c62-8b77-a11f22eded69",
   "metadata": {},
   "outputs": [
    {
     "data": {
      "text/html": [
       "<div>\n",
       "<style scoped>\n",
       "    .dataframe tbody tr th:only-of-type {\n",
       "        vertical-align: middle;\n",
       "    }\n",
       "\n",
       "    .dataframe tbody tr th {\n",
       "        vertical-align: top;\n",
       "    }\n",
       "\n",
       "    .dataframe thead th {\n",
       "        text-align: right;\n",
       "    }\n",
       "</style>\n",
       "<table border=\"1\" class=\"dataframe\">\n",
       "  <thead>\n",
       "    <tr style=\"text-align: right;\">\n",
       "      <th></th>\n",
       "      <th>Age</th>\n",
       "      <th>Sex</th>\n",
       "      <th>BP</th>\n",
       "      <th>Cholesterol</th>\n",
       "      <th>Na_to_K</th>\n",
       "      <th>Drug</th>\n",
       "    </tr>\n",
       "  </thead>\n",
       "  <tbody>\n",
       "    <tr>\n",
       "      <th>0</th>\n",
       "      <td>23</td>\n",
       "      <td>F</td>\n",
       "      <td>HIGH</td>\n",
       "      <td>HIGH</td>\n",
       "      <td>25.355</td>\n",
       "      <td>DrugY</td>\n",
       "    </tr>\n",
       "    <tr>\n",
       "      <th>1</th>\n",
       "      <td>47</td>\n",
       "      <td>M</td>\n",
       "      <td>LOW</td>\n",
       "      <td>HIGH</td>\n",
       "      <td>13.093</td>\n",
       "      <td>drugC</td>\n",
       "    </tr>\n",
       "    <tr>\n",
       "      <th>2</th>\n",
       "      <td>47</td>\n",
       "      <td>M</td>\n",
       "      <td>LOW</td>\n",
       "      <td>HIGH</td>\n",
       "      <td>10.114</td>\n",
       "      <td>drugC</td>\n",
       "    </tr>\n",
       "    <tr>\n",
       "      <th>3</th>\n",
       "      <td>28</td>\n",
       "      <td>F</td>\n",
       "      <td>NORMAL</td>\n",
       "      <td>HIGH</td>\n",
       "      <td>7.798</td>\n",
       "      <td>drugX</td>\n",
       "    </tr>\n",
       "    <tr>\n",
       "      <th>4</th>\n",
       "      <td>61</td>\n",
       "      <td>F</td>\n",
       "      <td>LOW</td>\n",
       "      <td>HIGH</td>\n",
       "      <td>18.043</td>\n",
       "      <td>DrugY</td>\n",
       "    </tr>\n",
       "  </tbody>\n",
       "</table>\n",
       "</div>"
      ],
      "text/plain": [
       "   Age Sex      BP Cholesterol  Na_to_K   Drug\n",
       "0   23   F    HIGH        HIGH   25.355  DrugY\n",
       "1   47   M     LOW        HIGH   13.093  drugC\n",
       "2   47   M     LOW        HIGH   10.114  drugC\n",
       "3   28   F  NORMAL        HIGH    7.798  drugX\n",
       "4   61   F     LOW        HIGH   18.043  DrugY"
      ]
     },
     "execution_count": 3,
     "metadata": {},
     "output_type": "execute_result"
    }
   ],
   "source": [
    "import pandas as pd\n",
    "data = pd.read_csv(\"C:/Users/Mitul/Desktop/Study/Algorithms/KNN/drug200.csv\")\n",
    "data.head()"
   ]
  },
  {
   "cell_type": "code",
   "execution_count": 4,
   "id": "dd1738f8-5b52-42f9-bd21-2eea3fa0c1b2",
   "metadata": {},
   "outputs": [
    {
     "name": "stdout",
     "output_type": "stream",
     "text": [
      "<class 'pandas.core.frame.DataFrame'>\n",
      "RangeIndex: 200 entries, 0 to 199\n",
      "Data columns (total 6 columns):\n",
      " #   Column       Non-Null Count  Dtype  \n",
      "---  ------       --------------  -----  \n",
      " 0   Age          200 non-null    int64  \n",
      " 1   Sex          200 non-null    object \n",
      " 2   BP           200 non-null    object \n",
      " 3   Cholesterol  200 non-null    object \n",
      " 4   Na_to_K      200 non-null    float64\n",
      " 5   Drug         200 non-null    object \n",
      "dtypes: float64(1), int64(1), object(4)\n",
      "memory usage: 9.5+ KB\n"
     ]
    }
   ],
   "source": [
    "data.info()"
   ]
  },
  {
   "cell_type": "markdown",
   "id": "2320c614-2b12-4700-a1bf-978f08135cb2",
   "metadata": {},
   "source": [
    "### **LOG** : Encoding the categorical using labelEncoder from sklearn.preprocessing.\n",
    "### *LabelEncoder is a preprocessing tool in scikit-learn that converts categorical labels into numerical values. It assigns a unique integer (0, 1, 2, etc.) to each category, making it suitable for encoding target variables in classification problems*"
   ]
  },
  {
   "cell_type": "code",
   "execution_count": 6,
   "id": "40866137-4459-471d-b43b-5a0e643bf6e0",
   "metadata": {},
   "outputs": [],
   "source": [
    "from sklearn.preprocessing import LabelEncoder\n",
    "label=LabelEncoder()\n",
    "data['Sex']=label.fit_transform(data[\"Sex\"])\n",
    "data['BP']=label.fit_transform(data[\"BP\"])\n",
    "data['Cholesterol']=label.fit_transform(data[\"Cholesterol\"])"
   ]
  },
  {
   "cell_type": "markdown",
   "id": "78871c7d-79fe-4802-8a9c-4090a168cc92",
   "metadata": {},
   "source": [
    "### **LOG** : Splitting data into X (Independent Features) and y (Target variable)"
   ]
  },
  {
   "cell_type": "code",
   "execution_count": 7,
   "id": "affa8ff9-8fdd-43b3-8be3-484ed3a70459",
   "metadata": {},
   "outputs": [],
   "source": [
    "X=data.iloc[:,:-1]\n",
    "y=data.iloc[:,-1]"
   ]
  },
  {
   "cell_type": "markdown",
   "id": "b33b1474-2071-4ef6-9379-a7ba78bb8a6f",
   "metadata": {},
   "source": [
    "### **LOG** : Splitting the data in training and test using train_test_split from sklearn.model_selection\n",
    "### **Explaination** : In train_test_split we are taking the test_size as 0.2 that means 20% of data will be used for testing and keeping random_state = 42 for code reproducibility."
   ]
  },
  {
   "cell_type": "code",
   "execution_count": 8,
   "id": "f9514c9b-49df-4efb-a07d-783ea8b9b91d",
   "metadata": {},
   "outputs": [],
   "source": [
    "from sklearn.model_selection import train_test_split\n",
    "X_train,X_test,y_train,y_test=train_test_split(X,y,test_size=0.2,random_state=42)"
   ]
  },
  {
   "cell_type": "markdown",
   "id": "3be2b89f-75d9-416f-a2ea-4835906a7dbd",
   "metadata": {},
   "source": [
    "### **LOG** : Using the KNeighborsClassifier to train the model for K values 1 to 10 to find the most suitable value from k using fbeta_score. From the below graph we see k = 3 has the highest fbeta_score which means it has highest recall and precision for this value of k.\n",
    "### *KNeighborsClassifier is a machine learning algorithm from scikit-learn that implements the k-Nearest Neighbors (k-NN) classification. It classifies a data point based on the majority class of its nearest k neighbors, with options to weigh neighbors differently (e.g., by distance).*\n",
    "### *fbeta_score is a performance metric that balances precision and recall, giving more weight to recall when β > 1 and precision when β < 1.*"
   ]
  },
  {
   "cell_type": "code",
   "execution_count": 13,
   "id": "ecb2537d-19d2-4e96-a612-8b939f1cfa99",
   "metadata": {},
   "outputs": [
    {
     "data": {
      "image/png": "[encoded data removed]",
      "text/plain": [
       "<Figure size 640x480 with 1 Axes>"
      ]
     },
     "metadata": {},
     "output_type": "display_data"
    }
   ],
   "source": [
    "import matplotlib.pyplot as plt\n",
    "from sklearn.neighbors import KNeighborsClassifier\n",
    "from sklearn.metrics import fbeta_score\n",
    "k_range = list(range(1, 10))\n",
    "scores = []\n",
    "for i in k_range:\n",
    "    knn = KNeighborsClassifier(n_neighbors=i)\n",
    "    knn.fit(X_train, y_train)\n",
    "    y_pred_k = knn.predict(X_test)\n",
    "    scores.append(fbeta_score(y_test, y_pred_k,beta=2,average='weighted'))\n",
    "plt.plot(k_range, scores)\n",
    "plt.show()"
   ]
  },
  {
   "cell_type": "markdown",
   "id": "18052e8b-2112-4fc0-8650-c0f8da1382a1",
   "metadata": {},
   "source": [
    "### **LOG** : Training the KNN model for k =3."
   ]
  },
  {
   "cell_type": "code",
   "execution_count": 16,
   "id": "8af2cc93-4973-4da2-bd9e-27e0c9bae714",
   "metadata": {},
   "outputs": [],
   "source": [
    "from sklearn.neighbors import KNeighborsClassifier\n",
    "model=KNeighborsClassifier(n_neighbors=3)\n",
    "model.fit(X_train,y_train)\n",
    "y_pred=knn.predict(X_test)"
   ]
  },
  {
   "cell_type": "markdown",
   "id": "18dd3a8e-64ac-429d-83dc-c028b296aa10",
   "metadata": {},
   "source": [
    "### **LOG** : Evaluation report analysis\n",
    "### Precision - How many predicted values matched the actual value.\n",
    "### Recall - How many in total were coreectly identified.\n",
    "### F1 score - Harmonic mean of Precision and Recall.\n",
    "\n",
    "### **Results :**\n",
    "### 1. The model has an accuracy of 78 percent.\n",
    "### 2. All the 15 instances for Drug Y were correctly identified and it has a F1 score of 1.\n",
    "### 3. Drug A and X predictions were moderately correct and they have 0.67 and 0.73 as F1 scores.\n",
    "### 4. The model performed poorly having F1 score of less than 0.60 for Drug B and C."
   ]
  },
  {
   "cell_type": "code",
   "execution_count": 17,
   "id": "8c28c1f9-56ad-4361-b7e2-21835af92661",
   "metadata": {},
   "outputs": [
    {
     "name": "stdout",
     "output_type": "stream",
     "text": [
      "              precision    recall  f1-score   support\n",
      "\n",
      "       DrugY       1.00      1.00      1.00        15\n",
      "       drugA       0.56      0.83      0.67         6\n",
      "       drugB       0.50      0.67      0.57         3\n",
      "       drugC       1.00      0.20      0.33         5\n",
      "       drugX       0.73      0.73      0.73        11\n",
      "\n",
      "    accuracy                           0.78        40\n",
      "   macro avg       0.76      0.69      0.66        40\n",
      "weighted avg       0.82      0.78      0.76        40\n",
      "\n",
      "[[15  0  0  0  0]\n",
      " [ 0  5  0  0  1]\n",
      " [ 0  0  2  0  1]\n",
      " [ 0  3  0  1  1]\n",
      " [ 0  1  2  0  8]]\n"
     ]
    }
   ],
   "source": [
    "from sklearn.metrics import classification_report, confusion_matrix\n",
    "\n",
    "# Prediction\n",
    "y_pred = model.predict(X_test)\n",
    "\n",
    "# E valuation metrics\n",
    "print(classification_report(y_test, y_pred))\n",
    "print(confusion_matrix(y_test, y_pred))"
   ]
  },
  {
   "cell_type": "markdown",
   "id": "437f2658-0965-4a81-b565-8780b4051b0b",
   "metadata": {},
   "source": [
    "### **LOG** : Tweaking hyperparameter to increase accuracy of the model.\n",
    "### Changing the weights parameter to distance which is by default uniform which means model will give preference to points which are closer."
   ]
  },
  {
   "cell_type": "code",
   "execution_count": 19,
   "id": "15313f10-f798-47b4-bc8f-4d39980dff4b",
   "metadata": {},
   "outputs": [],
   "source": [
    "from sklearn.neighbors import KNeighborsClassifier\n",
    "model2=KNeighborsClassifier(n_neighbors=3,weights=\"distance\")\n",
    "model2.fit(X_train,y_train)\n",
    "y_pred2=knn.predict(X_test)"
   ]
  },
  {
   "cell_type": "markdown",
   "id": "fb753d20-6ca0-4e30-9ffd-e638556ff0b6",
   "metadata": {},
   "source": [
    "### **LOG** : Updated results\n",
    "### **RESULTS**:\n",
    "### 1. The accuracy of the model increased by 2 percent from 78 to 80.\n",
    "### 2. Using the updated the models prediction became better for Drug A and C which resulted in the increase in accuracy."
   ]
  },
  {
   "cell_type": "code",
   "execution_count": 20,
   "id": "6640af1e-0dac-4e05-a0b6-d2a75a236a1c",
   "metadata": {},
   "outputs": [
    {
     "name": "stdout",
     "output_type": "stream",
     "text": [
      "              precision    recall  f1-score   support\n",
      "\n",
      "       DrugY       1.00      1.00      1.00        15\n",
      "       drugA       0.71      0.83      0.77         6\n",
      "       drugB       0.50      0.67      0.57         3\n",
      "       drugC       0.67      0.40      0.50         5\n",
      "       drugX       0.73      0.73      0.73        11\n",
      "\n",
      "    accuracy                           0.80        40\n",
      "   macro avg       0.72      0.73      0.71        40\n",
      "weighted avg       0.80      0.80      0.80        40\n",
      "\n",
      "[[15  0  0  0  0]\n",
      " [ 0  5  0  0  1]\n",
      " [ 0  0  2  0  1]\n",
      " [ 0  2  0  2  1]\n",
      " [ 0  0  2  1  8]]\n"
     ]
    }
   ],
   "source": [
    "from sklearn.metrics import classification_report, confusion_matrix\n",
    "\n",
    "# Prediction\n",
    "y_pred2 = model2.predict(X_test)\n",
    "\n",
    "# E valuation metrics\n",
    "print(classification_report(y_test, y_pred2))\n",
    "print(confusion_matrix(y_test, y_pred2))"
   ]
  },
  {
   "cell_type": "markdown",
   "id": "833669d4-b5da-4951-88d5-0371515a915b",
   "metadata": {},
   "source": [
    "### **LOG** : Fine tuning using GridSearchCV\n",
    "### The parameters selected by GridSearchCV are metric as manhattan, neighbours as 5 and weights as distance.\n",
    "\n",
    "### *GridSearchCV is a technique used for hyperparameter tuning in machine learning models. It systematically searches for the best combination of hyperparameters from a predefined set by training and evaluating the model using cross-validation.*"
   ]
  },
  {
   "cell_type": "code",
   "execution_count": 27,
   "id": "60908e78-a712-469f-a9a5-2ba4803fe757",
   "metadata": {},
   "outputs": [
    {
     "name": "stdout",
     "output_type": "stream",
     "text": [
      "{'metric': 'manhattan', 'n_neighbors': 5, 'weights': 'distance'}\n"
     ]
    }
   ],
   "source": [
    "from sklearn.model_selection import GridSearchCV\n",
    "\n",
    "param_grid = {\n",
    "    'n_neighbors': [3, 5, 7, 9],\n",
    "    'weights': ['uniform', 'distance'],\n",
    "    'metric': ['euclidean', 'manhattan', 'minkowski']\n",
    "}\n",
    "\n",
    "grid_search = GridSearchCV(KNeighborsClassifier(), param_grid, cv=5, scoring='accuracy')\n",
    "grid_search.fit(X_train, y_train)\n",
    "\n",
    "\n",
    "print(grid_search.best_params_)\n"
   ]
  },
  {
   "cell_type": "markdown",
   "id": "3d94f6b6-fcb5-4810-b702-6fcc2f543d84",
   "metadata": {},
   "source": [
    "### **LOG** : GridSearchCV Results\n",
    "### **RESULTS**:\n",
    "### Using the GridSearchCV the model gives an 78 percent accuracy which is similar to model 1 but less than model 2."
   ]
  },
  {
   "cell_type": "code",
   "execution_count": 28,
   "id": "7603a3d1-5796-4686-bb5d-488441d67d8a",
   "metadata": {},
   "outputs": [
    {
     "name": "stdout",
     "output_type": "stream",
     "text": [
      "              precision    recall  f1-score   support\n",
      "\n",
      "       DrugY       1.00      1.00      1.00        15\n",
      "       drugA       0.83      0.83      0.83         6\n",
      "       drugB       0.50      0.67      0.57         3\n",
      "       drugC       0.50      0.20      0.29         5\n",
      "       drugX       0.62      0.73      0.67        11\n",
      "\n",
      "    accuracy                           0.78        40\n",
      "   macro avg       0.69      0.69      0.67        40\n",
      "weighted avg       0.77      0.78      0.76        40\n",
      "\n",
      "[[15  0  0  0  0]\n",
      " [ 0  5  0  0  1]\n",
      " [ 0  0  2  0  1]\n",
      " [ 0  1  0  1  3]\n",
      " [ 0  0  2  1  8]]\n"
     ]
    }
   ],
   "source": [
    "from sklearn.metrics import classification_report, confusion_matrix\n",
    "\n",
    "# Prediction\n",
    "y_pred3=grid_search.predict(X_test)\n",
    "\n",
    "# E valuation metrics\n",
    "print(classification_report(y_test, y_pred3))\n",
    "print(confusion_matrix(y_test, y_pred3))"
   ]
  },
  {
   "cell_type": "markdown",
   "id": "fe05d5bf-0acc-4d99-998e-a80a32341915",
   "metadata": {},
   "source": [
    "### **REFERENCES** :\n",
    "### https://chatgpt.com/\n",
    "### https://www.kaggle.com/\n",
    "### https://notebook.community/RagsX137/TF_Tutorial/My+own+KNN+Classifier"
   ]
  },
  {
   "cell_type": "markdown",
   "id": "f472cf51-1b35-45db-bb12-adf376ee3ee5",
   "metadata": {},
   "source": [
    "## **END**"
   ]
  }
 ],
 "metadata": {
  "kernelspec": {
   "display_name": "Python 3 (ipykernel)",
   "language": "python",
   "name": "python3"
  },
  "language_info": {
   "codemirror_mode": {
    "name": "ipython",
    "version": 3
   },
   "file_extension": ".py",
   "mimetype": "text/x-python",
   "name": "python",
   "nbconvert_exporter": "python",
   "pygments_lexer": "ipython3",
   "version": "3.11.9"
  }
 },
 "nbformat": 4,
 "nbformat_minor": 5
}
