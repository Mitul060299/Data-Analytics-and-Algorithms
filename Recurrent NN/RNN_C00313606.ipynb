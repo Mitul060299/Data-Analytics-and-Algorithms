{
 "cells": [
  {
   "cell_type": "markdown",
   "id": "6da70921-5f0e-4b60-adb7-7db8a3b30d66",
   "metadata": {},
   "source": [
    "# Recurrent Neural Network\n",
    "\n",
    "**Name - Mitul Srivastava**\n",
    "\n",
    "**ID - C00313606**"
   ]
  },
  {
   "cell_type": "markdown",
   "id": "8ab37ed6-c8db-466b-87a0-f53008fd6c84",
   "metadata": {},
   "source": [
    "## **LOG** : Introduction to dataset\n",
    "### **DATASET** : IMDB Sentiment Analysis Dataset\n",
    "### **DETAIL** : The IMDB dataset contains 50,000 movie reviews labeled as positive (1) or negative (0).\n",
    "### **AIM** : To train and fine tune Recurrent Neural network to correctly identify sentiment. "
   ]
  },
  {
   "cell_type": "markdown",
   "id": "c5939701-f40b-4865-b0b4-404dac161388",
   "metadata": {},
   "source": [
    "## **LOG** : Importing required packages."
   ]
  },
  {
   "cell_type": "code",
   "execution_count": 2,
   "id": "66b904e3-8b7c-4937-a591-012eeb9a5efb",
   "metadata": {},
   "outputs": [],
   "source": [
    "import tensorflow as tf\n",
    "from tensorflow import keras\n",
    "import numpy as np\n",
    "import matplotlib.pyplot as plt"
   ]
  },
  {
   "cell_type": "markdown",
   "id": "ccba696c-9ae4-409b-8705-ef7ab0928f46",
   "metadata": {},
   "source": [
    "## **LOG** : Importing IMDB dataset."
   ]
  },
  {
   "cell_type": "code",
   "execution_count": 3,
   "id": "4ae8a9cf-c2d2-43b0-a3b7-9fc7815422db",
   "metadata": {},
   "outputs": [
    {
     "name": "stdout",
     "output_type": "stream",
     "text": [
      "Downloading data from https://storage.googleapis.com/tensorflow/tf-keras-datasets/imdb.npz\n",
      "\u001b[1m17464789/17464789\u001b[0m \u001b[32m━━━━━━━━━━━━━━━━━━━━\u001b[0m\u001b[37m\u001b[0m \u001b[1m5s\u001b[0m 0us/step \n"
     ]
    }
   ],
   "source": [
    "imdb = keras.datasets.imdb\n",
    "(x_train, y_train), (x_test, y_test) = imdb.load_data(num_words=10000)"
   ]
  },
  {
   "cell_type": "markdown",
   "id": "103f63f3-568e-4dd9-b002-4c4afab444f7",
   "metadata": {},
   "source": [
    "## **LOG**: Padding sequences to ensure uniform input size and Limiting vocabulary to the top 10,000 most common words."
   ]
  },
  {
   "cell_type": "code",
   "execution_count": 4,
   "id": "2b0192b1-e3e0-43e9-aa81-42cb289255a2",
   "metadata": {},
   "outputs": [],
   "source": [
    "from tensorflow.keras.preprocessing.sequence import pad_sequences\n",
    "\n",
    "max_length = 250\n",
    "x_train = pad_sequences(x_train, maxlen=max_length)\n",
    "x_test = pad_sequences(x_test, maxlen=max_length)"
   ]
  },
  {
   "cell_type": "markdown",
   "id": "2c4c27a5-a5e0-48c0-991a-46643a86f0ca",
   "metadata": {},
   "source": [
    "## **LOG:** Defining RNN Model \n",
    "## Embedding: Converts words into dense vectors. \n",
    "## SimpleRNN: Captures sequential dependencies. \n",
    "## Dense: Fully connected layers for classification."
   ]
  },
  {
   "cell_type": "code",
   "execution_count": 6,
   "id": "cfed0a82-c749-4813-9a8d-630fe8413828",
   "metadata": {},
   "outputs": [],
   "source": [
    "model = keras.Sequential([\n",
    "    keras.layers.Embedding(10000, 64, input_length=max_length),\n",
    "    keras.layers.SimpleRNN(64, return_sequences=True),\n",
    "    keras.layers.SimpleRNN(32),\n",
    "    keras.layers.Dense(1, activation='sigmoid')\n",
    "])"
   ]
  },
  {
   "cell_type": "markdown",
   "id": "eb986505-58ce-4c98-8de0-5dd5326472cc",
   "metadata": {},
   "source": [
    "## **LOG** : Compiling the model with optimizer as \"adam\" and using \"binary_crossentropy\" suitable for binary classification for error and accuracy as the metric."
   ]
  },
  {
   "cell_type": "code",
   "execution_count": 7,
   "id": "497550cd-0df2-49da-bff0-52439feba8a8",
   "metadata": {},
   "outputs": [],
   "source": [
    "model.compile(optimizer='adam',\n",
    "              loss='binary_crossentropy',\n",
    "              metrics=['accuracy'])"
   ]
  },
  {
   "cell_type": "markdown",
   "id": "949b4f3a-135d-4738-afbb-ba908e38e331",
   "metadata": {},
   "source": [
    "## **LOG** : Training the model with 5 epochs."
   ]
  },
  {
   "cell_type": "code",
   "execution_count": 8,
   "id": "3f290b51-0c03-4732-93d2-ee4792a615fb",
   "metadata": {},
   "outputs": [
    {
     "name": "stdout",
     "output_type": "stream",
     "text": [
      "Epoch 1/5\n",
      "\u001b[1m782/782\u001b[0m \u001b[32m━━━━━━━━━━━━━━━━━━━━\u001b[0m\u001b[37m\u001b[0m \u001b[1m150s\u001b[0m 183ms/step - accuracy: 0.5372 - loss: 0.6862 - val_accuracy: 0.6360 - val_loss: 0.6206\n",
      "Epoch 2/5\n",
      "\u001b[1m782/782\u001b[0m \u001b[32m━━━━━━━━━━━━━━━━━━━━\u001b[0m\u001b[37m\u001b[0m \u001b[1m142s\u001b[0m 181ms/step - accuracy: 0.7361 - loss: 0.5266 - val_accuracy: 0.6622 - val_loss: 0.6041\n",
      "Epoch 3/5\n",
      "\u001b[1m782/782\u001b[0m \u001b[32m━━━━━━━━━━━━━━━━━━━━\u001b[0m\u001b[37m\u001b[0m \u001b[1m143s\u001b[0m 183ms/step - accuracy: 0.7941 - loss: 0.4502 - val_accuracy: 0.8209 - val_loss: 0.4173\n",
      "Epoch 4/5\n",
      "\u001b[1m782/782\u001b[0m \u001b[32m━━━━━━━━━━━━━━━━━━━━\u001b[0m\u001b[37m\u001b[0m \u001b[1m145s\u001b[0m 185ms/step - accuracy: 0.8167 - loss: 0.4136 - val_accuracy: 0.7654 - val_loss: 0.4976\n",
      "Epoch 5/5\n",
      "\u001b[1m782/782\u001b[0m \u001b[32m━━━━━━━━━━━━━━━━━━━━\u001b[0m\u001b[37m\u001b[0m \u001b[1m143s\u001b[0m 183ms/step - accuracy: 0.8584 - loss: 0.3424 - val_accuracy: 0.8050 - val_loss: 0.4724\n"
     ]
    },
    {
     "data": {
      "text/plain": [
       "<keras.src.callbacks.history.History at 0x1fe044694d0>"
      ]
     },
     "execution_count": 8,
     "metadata": {},
     "output_type": "execute_result"
    }
   ],
   "source": [
    "model.fit(x_train, y_train, epochs=5, validation_data=(x_test, y_test))\n"
   ]
  },
  {
   "cell_type": "markdown",
   "id": "ba895ade-b503-4185-8d02-80c633916724",
   "metadata": {},
   "source": [
    "## **LOG** : Model evaluation"
   ]
  },
  {
   "cell_type": "code",
   "execution_count": 9,
   "id": "d85452ac-1453-434c-9e86-871f3b1662f9",
   "metadata": {},
   "outputs": [
    {
     "name": "stdout",
     "output_type": "stream",
     "text": [
      "\u001b[1m782/782\u001b[0m \u001b[32m━━━━━━━━━━━━━━━━━━━━\u001b[0m\u001b[37m\u001b[0m \u001b[1m34s\u001b[0m 43ms/step - accuracy: 0.7987 - loss: 0.4869\n",
      "Test accuracy: 0.8050\n"
     ]
    }
   ],
   "source": [
    "test_loss, test_acc = model.evaluate(x_test, y_test)\n",
    "print(f\"Test accuracy: {test_acc:.4f}\")"
   ]
  },
  {
   "cell_type": "markdown",
   "id": "b477ee29-8817-4e66-b9ae-59795857992e",
   "metadata": {},
   "source": [
    "## **LOG:** Enhancing model performance by:\n",
    "## Replacing SimpleRNN with LSTM for better long-term memory.\n",
    "## Increasing the number of LSTM units.\n",
    "## Adding Dropout to reduce overfitting."
   ]
  },
  {
   "cell_type": "code",
   "execution_count": 10,
   "id": "7040f0d5-d84e-4c8f-a253-ecead2130710",
   "metadata": {},
   "outputs": [],
   "source": [
    "model_improved = keras.Sequential([\n",
    "    keras.layers.Embedding(10000, 64, input_length=max_length),\n",
    "    keras.layers.LSTM(128, return_sequences=True),\n",
    "    keras.layers.LSTM(64),\n",
    "    keras.layers.Dropout(0.3),\n",
    "    keras.layers.Dense(1, activation='sigmoid')\n",
    "])"
   ]
  },
  {
   "cell_type": "markdown",
   "id": "31a45cf4-86a1-4d08-9162-2003453bad66",
   "metadata": {},
   "source": [
    "## **LOG** : Compiling the improved model."
   ]
  },
  {
   "cell_type": "code",
   "execution_count": 11,
   "id": "2105ba6e-30f4-43ec-addd-1b4135f54634",
   "metadata": {},
   "outputs": [
    {
     "name": "stdout",
     "output_type": "stream",
     "text": [
      "Epoch 1/10\n",
      "\u001b[1m782/782\u001b[0m \u001b[32m━━━━━━━━━━━━━━━━━━━━\u001b[0m\u001b[37m\u001b[0m \u001b[1m560s\u001b[0m 705ms/step - accuracy: 0.6865 - loss: 0.5794 - val_accuracy: 0.6311 - val_loss: 0.6842\n",
      "Epoch 2/10\n",
      "\u001b[1m782/782\u001b[0m \u001b[32m━━━━━━━━━━━━━━━━━━━━\u001b[0m\u001b[37m\u001b[0m \u001b[1m32023s\u001b[0m 41s/step - accuracy: 0.6737 - loss: 0.5630 - val_accuracy: 0.6449 - val_loss: 0.6262\n",
      "Epoch 3/10\n",
      "\u001b[1m782/782\u001b[0m \u001b[32m━━━━━━━━━━━━━━━━━━━━\u001b[0m\u001b[37m\u001b[0m \u001b[1m534s\u001b[0m 683ms/step - accuracy: 0.7829 - loss: 0.4704 - val_accuracy: 0.8441 - val_loss: 0.3680\n",
      "Epoch 4/10\n",
      "\u001b[1m782/782\u001b[0m \u001b[32m━━━━━━━━━━━━━━━━━━━━\u001b[0m\u001b[37m\u001b[0m \u001b[1m598s\u001b[0m 765ms/step - accuracy: 0.8971 - loss: 0.2647 - val_accuracy: 0.8628 - val_loss: 0.3133\n",
      "Epoch 5/10\n",
      "\u001b[1m782/782\u001b[0m \u001b[32m━━━━━━━━━━━━━━━━━━━━\u001b[0m\u001b[37m\u001b[0m \u001b[1m571s\u001b[0m 731ms/step - accuracy: 0.9257 - loss: 0.2021 - val_accuracy: 0.8694 - val_loss: 0.3426\n",
      "Epoch 6/10\n",
      "\u001b[1m782/782\u001b[0m \u001b[32m━━━━━━━━━━━━━━━━━━━━\u001b[0m\u001b[37m\u001b[0m \u001b[1m598s\u001b[0m 765ms/step - accuracy: 0.9442 - loss: 0.1594 - val_accuracy: 0.8686 - val_loss: 0.3290\n",
      "Epoch 7/10\n",
      "\u001b[1m782/782\u001b[0m \u001b[32m━━━━━━━━━━━━━━━━━━━━\u001b[0m\u001b[37m\u001b[0m \u001b[1m578s\u001b[0m 739ms/step - accuracy: 0.9540 - loss: 0.1325 - val_accuracy: 0.8638 - val_loss: 0.3512\n",
      "Epoch 8/10\n",
      "\u001b[1m782/782\u001b[0m \u001b[32m━━━━━━━━━━━━━━━━━━━━\u001b[0m\u001b[37m\u001b[0m \u001b[1m787s\u001b[0m 1s/step - accuracy: 0.9650 - loss: 0.1059 - val_accuracy: 0.8589 - val_loss: 0.4412\n",
      "Epoch 9/10\n",
      "\u001b[1m782/782\u001b[0m \u001b[32m━━━━━━━━━━━━━━━━━━━━\u001b[0m\u001b[37m\u001b[0m \u001b[1m313s\u001b[0m 400ms/step - accuracy: 0.9701 - loss: 0.0907 - val_accuracy: 0.8427 - val_loss: 0.5544\n",
      "Epoch 10/10\n",
      "\u001b[1m782/782\u001b[0m \u001b[32m━━━━━━━━━━━━━━━━━━━━\u001b[0m\u001b[37m\u001b[0m \u001b[1m296s\u001b[0m 379ms/step - accuracy: 0.9788 - loss: 0.0727 - val_accuracy: 0.8546 - val_loss: 0.5091\n"
     ]
    },
    {
     "data": {
      "text/plain": [
       "<keras.src.callbacks.history.History at 0x1fe0f603690>"
      ]
     },
     "execution_count": 11,
     "metadata": {},
     "output_type": "execute_result"
    }
   ],
   "source": [
    "model_improved.compile(optimizer='adam',\n",
    "                        loss='binary_crossentropy',\n",
    "                        metrics=['accuracy'])\n",
    "\n",
    "model_improved.fit(x_train, y_train, epochs=10, validation_data=(x_test, y_test))"
   ]
  },
  {
   "cell_type": "markdown",
   "id": "17400859-0bb8-4151-93f0-57f0c67e4a85",
   "metadata": {},
   "source": [
    "## **LOG** : Evaluating the improved model.\n",
    "## We observe that the after modification the new models accuracy increased from 0.8050 to 0.8546."
   ]
  },
  {
   "cell_type": "code",
   "execution_count": 12,
   "id": "7783dd76-3406-4a40-9bad-45c983d4793c",
   "metadata": {},
   "outputs": [
    {
     "name": "stdout",
     "output_type": "stream",
     "text": [
      "\u001b[1m782/782\u001b[0m \u001b[32m━━━━━━━━━━━━━━━━━━━━\u001b[0m\u001b[37m\u001b[0m \u001b[1m197s\u001b[0m 252ms/step - accuracy: 0.8528 - loss: 0.5099\n",
      "Improved Test accuracy: 0.8546\n"
     ]
    }
   ],
   "source": [
    "test_loss, test_acc = model_improved.evaluate(x_test, y_test)\n",
    "print(f\"Improved Test accuracy: {test_acc:.4f}\")"
   ]
  },
  {
   "cell_type": "markdown",
   "id": "e8513839-e54f-40ff-bc57-9b15a0a84bf6",
   "metadata": {},
   "source": [
    "### **REFERENCES** :\n",
    "### https://chatgpt.com/\n",
    "### https://www.perplexity.ai/\n",
    "### https://github.com/trekhleb/machine-learning-experiments"
   ]
  },
  {
   "cell_type": "markdown",
   "id": "d548c60d-930c-440c-85a1-fdf6da88b429",
   "metadata": {},
   "source": [
    "## **END**"
   ]
  },
  {
   "cell_type": "code",
   "execution_count": null,
   "id": "4aed13ae-ae35-4797-885f-b1ec5161c368",
   "metadata": {},
   "outputs": [],
   "source": []
  }
 ],
 "metadata": {
  "kernelspec": {
   "display_name": "Python 3 (ipykernel)",
   "language": "python",
   "name": "python3"
  },
  "language_info": {
   "codemirror_mode": {
    "name": "ipython",
    "version": 3
   },
   "file_extension": ".py",
   "mimetype": "text/x-python",
   "name": "python",
   "nbconvert_exporter": "python",
   "pygments_lexer": "ipython3",
   "version": "3.11.9"
  }
 },
 "nbformat": 4,
 "nbformat_minor": 5
}
