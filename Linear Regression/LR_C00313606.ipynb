{
 "cells": [
  {
   "cell_type": "markdown",
   "id": "83fb459a-4241-400f-9fd6-e73a687a06e0",
   "metadata": {},
   "source": [
    "# Linear Regression\n",
    "\n",
    "**Name - Mitul Srivastava**\n",
    "\n",
    "**ID - C00313606**\n"
   ]
  },
  {
   "cell_type": "markdown",
   "id": "6d86020c-8eaf-465a-8f8b-cc782154d566",
   "metadata": {},
   "source": [
    "## **LOG** : Introduction to dataset\n",
    "### **DATASET** : California Housing dataset\n",
    "### **DETAIL** : The dataset has 9 columns regarding houses in California.\n",
    "### **AIM** : To train and fine tune Linear Regression model to predict the price of houses. "
   ]
  },
  {
   "cell_type": "code",
   "execution_count": 2,
   "id": "1057d0f7-a391-46ed-a678-b63dce3109a6",
   "metadata": {},
   "outputs": [],
   "source": [
    "import pandas as pd\n",
    "import numpy as np\n",
    "import matplotlib.pyplot as plt\n",
    "import seaborn as sns\n",
    "from sklearn.model_selection import train_test_split\n",
    "from sklearn.preprocessing import StandardScaler\n",
    "from sklearn.linear_model import LinearRegression\n",
    "from sklearn.metrics import mean_squared_error, mean_absolute_error, r2_score\n",
    "from sklearn.datasets import fetch_california_housing"
   ]
  },
  {
   "cell_type": "markdown",
   "id": "3703609e-61de-4b7e-8fb2-f266faf085f1",
   "metadata": {},
   "source": [
    "## **LOG:** Importing the dataset from scikit-learn"
   ]
  },
  {
   "cell_type": "code",
   "execution_count": 3,
   "id": "bf980ed8-1be1-495d-be86-054a0d9a4b6f",
   "metadata": {},
   "outputs": [
    {
     "name": "stdout",
     "output_type": "stream",
     "text": [
      "   MedInc  HouseAge  AveRooms  AveBedrms  Population  AveOccup  Latitude  \\\n",
      "0  8.3252      41.0  6.984127   1.023810       322.0  2.555556     37.88   \n",
      "1  8.3014      21.0  6.238137   0.971880      2401.0  2.109842     37.86   \n",
      "2  7.2574      52.0  8.288136   1.073446       496.0  2.802260     37.85   \n",
      "3  5.6431      52.0  5.817352   1.073059       558.0  2.547945     37.85   \n",
      "4  3.8462      52.0  6.281853   1.081081       565.0  2.181467     37.85   \n",
      "\n",
      "   Longitude  Price  \n",
      "0    -122.23  4.526  \n",
      "1    -122.22  3.585  \n",
      "2    -122.24  3.521  \n",
      "3    -122.25  3.413  \n",
      "4    -122.25  3.422  \n"
     ]
    }
   ],
   "source": [
    "data = fetch_california_housing()\n",
    "df = pd.DataFrame(data.data, columns=data.feature_names)\n",
    "df['Price'] = data.target\n",
    "print(df.head())"
   ]
  },
  {
   "cell_type": "code",
   "execution_count": 7,
   "id": "2e2d2a01-54ad-4060-bb26-649bdf075379",
   "metadata": {},
   "outputs": [
    {
     "name": "stdout",
     "output_type": "stream",
     "text": [
      "<class 'pandas.core.frame.DataFrame'>\n",
      "RangeIndex: 20640 entries, 0 to 20639\n",
      "Data columns (total 9 columns):\n",
      " #   Column      Non-Null Count  Dtype  \n",
      "---  ------      --------------  -----  \n",
      " 0   MedInc      20640 non-null  float64\n",
      " 1   HouseAge    20640 non-null  float64\n",
      " 2   AveRooms    20640 non-null  float64\n",
      " 3   AveBedrms   20640 non-null  float64\n",
      " 4   Population  20640 non-null  float64\n",
      " 5   AveOccup    20640 non-null  float64\n",
      " 6   Latitude    20640 non-null  float64\n",
      " 7   Longitude   20640 non-null  float64\n",
      " 8   Price       20640 non-null  float64\n",
      "dtypes: float64(9)\n",
      "memory usage: 1.4 MB\n"
     ]
    }
   ],
   "source": [
    "df.info()"
   ]
  },
  {
   "cell_type": "markdown",
   "id": "1d683157-5929-4abe-b3f2-bc7d846318b2",
   "metadata": {},
   "source": [
    "## **LOG:** Data Preprocessing\n",
    "## Normalizing numerical features using StandardScaler.\n",
    "## Spliting data into training and testing sets."
   ]
  },
  {
   "cell_type": "code",
   "execution_count": 4,
   "id": "ee401931-79d3-48d8-a260-8c056842228d",
   "metadata": {},
   "outputs": [],
   "source": [
    "X = df.drop(columns=['Price'])\n",
    "y = df['Price']\n",
    "\n",
    "scaler = StandardScaler()\n",
    "X = scaler.fit_transform(X)\n",
    "\n",
    "X_train, X_test, y_train, y_test = train_test_split(X, y, test_size=0.2, random_state=42)"
   ]
  },
  {
   "cell_type": "markdown",
   "id": "9650a569-3087-492f-8759-532da3ea0079",
   "metadata": {},
   "source": [
    "## **LOG:** Train Linear Regression Model\n",
    "## Fiting the model on the training data.\n",
    "## Making predictions.\n",
    "## Evaluating the model using Mean Squared Error (MSE) and R² score."
   ]
  },
  {
   "cell_type": "code",
   "execution_count": 5,
   "id": "90322f7b-de61-481d-bcb8-305fcfdd82ff",
   "metadata": {},
   "outputs": [
    {
     "name": "stdout",
     "output_type": "stream",
     "text": [
      "MSE: 0.5559\n",
      "MAE: 0.5332\n",
      "R² Score: 0.5758\n"
     ]
    }
   ],
   "source": [
    "model = LinearRegression()\n",
    "model.fit(X_train, y_train)\n",
    "y_pred = model.predict(X_test)\n",
    "\n",
    "print(f\"MSE: {mean_squared_error(y_test, y_pred):.4f}\")\n",
    "print(f\"MAE: {mean_absolute_error(y_test, y_pred):.4f}\")\n",
    "print(f\"R² Score: {r2_score(y_test, y_pred):.4f}\")\n"
   ]
  },
  {
   "cell_type": "markdown",
   "id": "4b10d036-39a9-4ca0-a84b-1b34815fb370",
   "metadata": {},
   "source": [
    "## **LOG:** Improve Model Performance\n",
    "## Using Polynomial Features to capture non-linearity.\n",
    "## Trying Ridge and Lasso regression for better generalization."
   ]
  },
  {
   "cell_type": "code",
   "execution_count": 6,
   "id": "b4ca0c6f-98c9-4fe9-8e59-cf18be63bdb1",
   "metadata": {},
   "outputs": [
    {
     "name": "stdout",
     "output_type": "stream",
     "text": [
      "Ridge MSE: 0.4624\n",
      "Ridge R² Score: 0.6471\n",
      "Lasso MSE: 0.6781\n",
      "Lasso R² Score: 0.4825\n"
     ]
    }
   ],
   "source": [
    "from sklearn.preprocessing import PolynomialFeatures\n",
    "from sklearn.linear_model import Ridge, Lasso\n",
    "\n",
    "poly = PolynomialFeatures(degree=2)\n",
    "X_train_poly = poly.fit_transform(X_train)\n",
    "X_test_poly = poly.transform(X_test)\n",
    "\n",
    "ridge = Ridge(alpha=1.0)\n",
    "ridge.fit(X_train_poly, y_train)\n",
    "y_pred_ridge = ridge.predict(X_test_poly)\n",
    "\n",
    "lasso = Lasso(alpha=0.1)\n",
    "lasso.fit(X_train_poly, y_train)\n",
    "y_pred_lasso = lasso.predict(X_test_poly)\n",
    "\n",
    "print(f\"Ridge MSE: {mean_squared_error(y_test, y_pred_ridge):.4f}\")\n",
    "print(f\"Ridge R² Score: {r2_score(y_test, y_pred_ridge):.4f}\")\n",
    "print(f\"Lasso MSE: {mean_squared_error(y_test, y_pred_lasso):.4f}\")\n",
    "print(f\"Lasso R² Score: {r2_score(y_test, y_pred_lasso):.4f}\")"
   ]
  },
  {
   "cell_type": "markdown",
   "id": "ed372960-9901-4a43-a67a-34396bef9bb1",
   "metadata": {},
   "source": [
    "### **REFERENCES** :\n",
    "### https://chatgpt.com/\n",
    "### https://www.kaggle.com/"
   ]
  },
  {
   "cell_type": "markdown",
   "id": "b49a8665-4e26-4210-8635-2dd6148038c8",
   "metadata": {},
   "source": [
    "## **END**"
   ]
  },
  {
   "cell_type": "code",
   "execution_count": null,
   "id": "bffc3804-18f6-4468-be36-95da9d3ad24e",
   "metadata": {},
   "outputs": [],
   "source": []
  }
 ],
 "metadata": {
  "kernelspec": {
   "display_name": "Python 3 (ipykernel)",
   "language": "python",
   "name": "python3"
  },
  "language_info": {
   "codemirror_mode": {
    "name": "ipython",
    "version": 3
   },
   "file_extension": ".py",
   "mimetype": "text/x-python",
   "name": "python",
   "nbconvert_exporter": "python",
   "pygments_lexer": "ipython3",
   "version": "3.11.9"
  }
 },
 "nbformat": 4,
 "nbformat_minor": 5
}
