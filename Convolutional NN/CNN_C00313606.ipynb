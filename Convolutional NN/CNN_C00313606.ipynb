{
 "cells": [
  {
   "cell_type": "markdown",
   "id": "c9536123-a6dc-4951-b689-2aafd9b5cc02",
   "metadata": {},
   "source": [
    "# Convolutional Neural Network\n",
    "\n",
    "**Name - Mitul Srivastava**\n",
    "\n",
    "**ID - C00313606**\n"
   ]
  },
  {
   "cell_type": "markdown",
   "id": "bea32b0b-f7aa-4d23-b7fc-77f27560a187",
   "metadata": {},
   "source": [
    "## **LOG** : Introduction to dataset and importing the data\n",
    "### **DATASET** : CIFAR-10 dataset\n",
    "### **DETAIL** : The CIFAR-10 dataset contains 60,000 color images (32x32) in 10 classes, with 50,000 training images and 10,000 test images.\n",
    "### **AIM** : To train and fine tune Convolutional Neural network to correctly identify labels for images. "
   ]
  },
  {
   "cell_type": "markdown",
   "id": "293246b3-1bf6-4a0d-b5eb-fb50c7a83ee2",
   "metadata": {},
   "source": [
    "## **LOG** : Importing required packages"
   ]
  },
  {
   "cell_type": "code",
   "execution_count": 3,
   "id": "b79747d9-ecc7-4019-a9f6-8c5a5d584b41",
   "metadata": {},
   "outputs": [],
   "source": [
    "import tensorflow as tf\n",
    "from tensorflow import keras\n",
    "import numpy as np\n",
    "import matplotlib.pyplot as plt"
   ]
  },
  {
   "cell_type": "markdown",
   "id": "52182214-2a96-477c-b8e5-eef22b7536b2",
   "metadata": {},
   "source": [
    "## **LOG** : Loading CIFAR-10 dataset using keras.datasets"
   ]
  },
  {
   "cell_type": "code",
   "execution_count": 4,
   "id": "c3580c05-571d-4394-a864-ac6271418f0d",
   "metadata": {},
   "outputs": [
    {
     "name": "stdout",
     "output_type": "stream",
     "text": [
      "Downloading data from https://www.cs.toronto.edu/~kriz/cifar-10-python.tar.gz\n",
      "\u001b[1m170498071/170498071\u001b[0m \u001b[32m━━━━━━━━━━━━━━━━━━━━\u001b[0m\u001b[37m\u001b[0m \u001b[1m48s\u001b[0m 0us/step\n"
     ]
    }
   ],
   "source": [
    "cifar10 = keras.datasets.cifar10\n",
    "(x_train, y_train), (x_test, y_test) = cifar10.load_data()"
   ]
  },
  {
   "cell_type": "markdown",
   "id": "562b7a8f-b9b2-4355-a90a-e43965d465da",
   "metadata": {},
   "source": [
    "## **LOG** : Normalising the dataset so that max value is 1 and min value is 0 by dividing by 255 because pixel has values from 0 to 255.\n",
    "## This type of normalisation is called min-max scaling."
   ]
  },
  {
   "cell_type": "code",
   "execution_count": 5,
   "id": "07e81a39-1af8-4e77-aa0c-17b6c32a1afd",
   "metadata": {},
   "outputs": [],
   "source": [
    "x_train, x_test = x_train / 255.0, x_test / 255.0"
   ]
  },
  {
   "cell_type": "markdown",
   "id": "658b1c37-ca40-4ab5-b7d0-ed3733c167c1",
   "metadata": {},
   "source": [
    "## **LOG** : Define the CNN model -\n",
    "## 1. Conv2D: Extracts features from images using filters.\n",
    "## 2. MaxPooling2D: Reduces spatial dimensions to prevent overfitting.\n",
    "## 3. Flatten: Converts 2D feature maps into 1D.\n",
    "## 4. Dense: Fully connected layers for classification."
   ]
  },
  {
   "cell_type": "code",
   "execution_count": 6,
   "id": "f697067f-b800-4292-babd-2e8531a8bbc8",
   "metadata": {},
   "outputs": [
    {
     "name": "stderr",
     "output_type": "stream",
     "text": [
      "C:\\Users\\Mitul\\AppData\\Local\\Programs\\Python\\Python311\\Lib\\site-packages\\keras\\src\\layers\\convolutional\\base_conv.py:107: UserWarning: Do not pass an `input_shape`/`input_dim` argument to a layer. When using Sequential models, prefer using an `Input(shape)` object as the first layer in the model instead.\n",
      "  super().__init__(activity_regularizer=activity_regularizer, **kwargs)\n"
     ]
    }
   ],
   "source": [
    "model = keras.Sequential([\n",
    "    keras.layers.Conv2D(32, (3,3), activation='relu', input_shape=(32,32,3)),\n",
    "    keras.layers.MaxPooling2D(2,2),\n",
    "    keras.layers.Conv2D(64, (3,3), activation='relu'),\n",
    "    keras.layers.MaxPooling2D(2,2),\n",
    "    keras.layers.Flatten(),\n",
    "    keras.layers.Dense(128, activation='relu'),\n",
    "    keras.layers.Dense(10, activation='softmax')\n",
    "])"
   ]
  },
  {
   "cell_type": "markdown",
   "id": "0d47af08-f0d3-41b5-b76b-6bef0d7fe352",
   "metadata": {},
   "source": [
    "## **LOG** : Compiling the model with optimizer as \"adam\" and using \"sparse_categorical_crossentropy\" suitable for multi class classification for error and accuracy as the metric."
   ]
  },
  {
   "cell_type": "code",
   "execution_count": 7,
   "id": "6fe47eee-c0f6-4ab5-a2ff-04ae7949ada6",
   "metadata": {},
   "outputs": [],
   "source": [
    "model.compile(optimizer='adam',\n",
    "              loss='sparse_categorical_crossentropy',\n",
    "              metrics=['accuracy'])"
   ]
  },
  {
   "cell_type": "markdown",
   "id": "f494c335-54c9-4e73-9186-a07746796384",
   "metadata": {},
   "source": [
    "## **LOG** : Training the model with 10 epochs."
   ]
  },
  {
   "cell_type": "code",
   "execution_count": 8,
   "id": "8be65d4e-319a-4618-9a20-6edc6fd146db",
   "metadata": {},
   "outputs": [
    {
     "name": "stdout",
     "output_type": "stream",
     "text": [
      "Epoch 1/10\n",
      "\u001b[1m1563/1563\u001b[0m \u001b[32m━━━━━━━━━━━━━━━━━━━━\u001b[0m\u001b[37m\u001b[0m \u001b[1m26s\u001b[0m 16ms/step - accuracy: 0.3813 - loss: 1.6903 - val_accuracy: 0.5721 - val_loss: 1.2244\n",
      "Epoch 2/10\n",
      "\u001b[1m1563/1563\u001b[0m \u001b[32m━━━━━━━━━━━━━━━━━━━━\u001b[0m\u001b[37m\u001b[0m \u001b[1m23s\u001b[0m 15ms/step - accuracy: 0.6008 - loss: 1.1382 - val_accuracy: 0.6396 - val_loss: 1.0355\n",
      "Epoch 3/10\n",
      "\u001b[1m1563/1563\u001b[0m \u001b[32m━━━━━━━━━━━━━━━━━━━━\u001b[0m\u001b[37m\u001b[0m \u001b[1m22s\u001b[0m 14ms/step - accuracy: 0.6668 - loss: 0.9596 - val_accuracy: 0.6657 - val_loss: 0.9658\n",
      "Epoch 4/10\n",
      "\u001b[1m1563/1563\u001b[0m \u001b[32m━━━━━━━━━━━━━━━━━━━━\u001b[0m\u001b[37m\u001b[0m \u001b[1m22s\u001b[0m 14ms/step - accuracy: 0.7026 - loss: 0.8549 - val_accuracy: 0.6841 - val_loss: 0.9253\n",
      "Epoch 5/10\n",
      "\u001b[1m1563/1563\u001b[0m \u001b[32m━━━━━━━━━━━━━━━━━━━━\u001b[0m\u001b[37m\u001b[0m \u001b[1m22s\u001b[0m 14ms/step - accuracy: 0.7371 - loss: 0.7626 - val_accuracy: 0.6840 - val_loss: 0.9282\n",
      "Epoch 6/10\n",
      "\u001b[1m1563/1563\u001b[0m \u001b[32m━━━━━━━━━━━━━━━━━━━━\u001b[0m\u001b[37m\u001b[0m \u001b[1m22s\u001b[0m 14ms/step - accuracy: 0.7610 - loss: 0.6964 - val_accuracy: 0.7021 - val_loss: 0.8841\n",
      "Epoch 7/10\n",
      "\u001b[1m1563/1563\u001b[0m \u001b[32m━━━━━━━━━━━━━━━━━━━━\u001b[0m\u001b[37m\u001b[0m \u001b[1m22s\u001b[0m 14ms/step - accuracy: 0.7809 - loss: 0.6336 - val_accuracy: 0.7061 - val_loss: 0.9067\n",
      "Epoch 8/10\n",
      "\u001b[1m1563/1563\u001b[0m \u001b[32m━━━━━━━━━━━━━━━━━━━━\u001b[0m\u001b[37m\u001b[0m \u001b[1m22s\u001b[0m 14ms/step - accuracy: 0.8043 - loss: 0.5651 - val_accuracy: 0.6980 - val_loss: 0.9329\n",
      "Epoch 9/10\n",
      "\u001b[1m1563/1563\u001b[0m \u001b[32m━━━━━━━━━━━━━━━━━━━━\u001b[0m\u001b[37m\u001b[0m \u001b[1m22s\u001b[0m 14ms/step - accuracy: 0.8248 - loss: 0.5039 - val_accuracy: 0.6996 - val_loss: 0.9635\n",
      "Epoch 10/10\n",
      "\u001b[1m1563/1563\u001b[0m \u001b[32m━━━━━━━━━━━━━━━━━━━━\u001b[0m\u001b[37m\u001b[0m \u001b[1m23s\u001b[0m 15ms/step - accuracy: 0.8398 - loss: 0.4593 - val_accuracy: 0.6973 - val_loss: 0.9974\n"
     ]
    },
    {
     "data": {
      "text/plain": [
       "<keras.src.callbacks.history.History at 0x23771b43490>"
      ]
     },
     "execution_count": 8,
     "metadata": {},
     "output_type": "execute_result"
    }
   ],
   "source": [
    "model.fit(x_train, y_train, epochs=10, validation_data=(x_test, y_test))"
   ]
  },
  {
   "cell_type": "markdown",
   "id": "c853fedf-ec8b-4aec-ade6-3124bf91b926",
   "metadata": {},
   "source": [
    "## **LOG** : Model evaluation"
   ]
  },
  {
   "cell_type": "code",
   "execution_count": 9,
   "id": "fe957319-79ea-48f8-9c2a-65df92850e63",
   "metadata": {},
   "outputs": [
    {
     "name": "stdout",
     "output_type": "stream",
     "text": [
      "\u001b[1m313/313\u001b[0m \u001b[32m━━━━━━━━━━━━━━━━━━━━\u001b[0m\u001b[37m\u001b[0m \u001b[1m2s\u001b[0m 6ms/step - accuracy: 0.6993 - loss: 0.9887\n",
      "Test accuracy: 0.6973\n"
     ]
    }
   ],
   "source": [
    "test_loss, test_acc = model.evaluate(x_test, y_test)\n",
    "print(f\"Test accuracy: {test_acc:.4f}\")"
   ]
  },
  {
   "cell_type": "markdown",
   "id": "ef9a02d7-825b-42e5-b029-08faa6d6bf17",
   "metadata": {},
   "source": [
    "## **LOG**: Improving the performance by -\n",
    "## 1. Increase filters in Conv2D layers to capture more features.\n",
    "## 2. Add Dropout layers to reduce overfitting.\n",
    "## 3. Increasing epochs to 15."
   ]
  },
  {
   "cell_type": "code",
   "execution_count": 10,
   "id": "6d208d34-c307-4eca-bfb8-d71acb012064",
   "metadata": {},
   "outputs": [],
   "source": [
    "model_improved = keras.Sequential([\n",
    "    keras.layers.Conv2D(64, (3,3), activation='relu', input_shape=(32,32,3)),\n",
    "    keras.layers.MaxPooling2D(2,2),\n",
    "    keras.layers.Conv2D(128, (3,3), activation='relu'),\n",
    "    keras.layers.MaxPooling2D(2,2),\n",
    "    keras.layers.Flatten(),\n",
    "    keras.layers.Dense(256, activation='relu'),\n",
    "    keras.layers.Dropout(0.3),\n",
    "    keras.layers.Dense(10, activation='softmax')\n",
    "])"
   ]
  },
  {
   "cell_type": "markdown",
   "id": "63191ea5-204d-45a3-962b-dc9e09fc75c5",
   "metadata": {},
   "source": [
    "## **LOG** : Compiling the improved model."
   ]
  },
  {
   "cell_type": "code",
   "execution_count": 11,
   "id": "b5df503f-cb40-4af1-8d7f-8c4d91138c5a",
   "metadata": {},
   "outputs": [
    {
     "name": "stdout",
     "output_type": "stream",
     "text": [
      "Epoch 1/15\n",
      "\u001b[1m1563/1563\u001b[0m \u001b[32m━━━━━━━━━━━━━━━━━━━━\u001b[0m\u001b[37m\u001b[0m \u001b[1m64s\u001b[0m 40ms/step - accuracy: 0.3812 - loss: 1.6870 - val_accuracy: 0.5856 - val_loss: 1.1638\n",
      "Epoch 2/15\n",
      "\u001b[1m1563/1563\u001b[0m \u001b[32m━━━━━━━━━━━━━━━━━━━━\u001b[0m\u001b[37m\u001b[0m \u001b[1m65s\u001b[0m 42ms/step - accuracy: 0.6089 - loss: 1.1174 - val_accuracy: 0.6512 - val_loss: 1.0227\n",
      "Epoch 3/15\n",
      "\u001b[1m1563/1563\u001b[0m \u001b[32m━━━━━━━━━━━━━━━━━━━━\u001b[0m\u001b[37m\u001b[0m \u001b[1m64s\u001b[0m 41ms/step - accuracy: 0.6745 - loss: 0.9407 - val_accuracy: 0.6906 - val_loss: 0.9021\n",
      "Epoch 4/15\n",
      "\u001b[1m1563/1563\u001b[0m \u001b[32m━━━━━━━━━━━━━━━━━━━━\u001b[0m\u001b[37m\u001b[0m \u001b[1m64s\u001b[0m 41ms/step - accuracy: 0.7109 - loss: 0.8304 - val_accuracy: 0.7087 - val_loss: 0.8516\n",
      "Epoch 5/15\n",
      "\u001b[1m1563/1563\u001b[0m \u001b[32m━━━━━━━━━━━━━━━━━━━━\u001b[0m\u001b[37m\u001b[0m \u001b[1m65s\u001b[0m 42ms/step - accuracy: 0.7404 - loss: 0.7400 - val_accuracy: 0.7015 - val_loss: 0.8773\n",
      "Epoch 6/15\n",
      "\u001b[1m1563/1563\u001b[0m \u001b[32m━━━━━━━━━━━━━━━━━━━━\u001b[0m\u001b[37m\u001b[0m \u001b[1m65s\u001b[0m 41ms/step - accuracy: 0.7721 - loss: 0.6527 - val_accuracy: 0.7206 - val_loss: 0.8254\n",
      "Epoch 7/15\n",
      "\u001b[1m1563/1563\u001b[0m \u001b[32m━━━━━━━━━━━━━━━━━━━━\u001b[0m\u001b[37m\u001b[0m \u001b[1m65s\u001b[0m 42ms/step - accuracy: 0.7914 - loss: 0.5873 - val_accuracy: 0.7159 - val_loss: 0.8581\n",
      "Epoch 8/15\n",
      "\u001b[1m1563/1563\u001b[0m \u001b[32m━━━━━━━━━━━━━━━━━━━━\u001b[0m\u001b[37m\u001b[0m \u001b[1m64s\u001b[0m 41ms/step - accuracy: 0.8162 - loss: 0.5252 - val_accuracy: 0.7230 - val_loss: 0.8475\n",
      "Epoch 9/15\n",
      "\u001b[1m1563/1563\u001b[0m \u001b[32m━━━━━━━━━━━━━━━━━━━━\u001b[0m\u001b[37m\u001b[0m \u001b[1m67s\u001b[0m 43ms/step - accuracy: 0.8325 - loss: 0.4748 - val_accuracy: 0.7165 - val_loss: 0.8870\n",
      "Epoch 10/15\n",
      "\u001b[1m1563/1563\u001b[0m \u001b[32m━━━━━━━━━━━━━━━━━━━━\u001b[0m\u001b[37m\u001b[0m \u001b[1m66s\u001b[0m 42ms/step - accuracy: 0.8480 - loss: 0.4279 - val_accuracy: 0.7230 - val_loss: 0.8991\n",
      "Epoch 11/15\n",
      "\u001b[1m1563/1563\u001b[0m \u001b[32m━━━━━━━━━━━━━━━━━━━━\u001b[0m\u001b[37m\u001b[0m \u001b[1m66s\u001b[0m 42ms/step - accuracy: 0.8595 - loss: 0.3898 - val_accuracy: 0.7231 - val_loss: 0.9513\n",
      "Epoch 12/15\n",
      "\u001b[1m1563/1563\u001b[0m \u001b[32m━━━━━━━━━━━━━━━━━━━━\u001b[0m\u001b[37m\u001b[0m \u001b[1m65s\u001b[0m 42ms/step - accuracy: 0.8711 - loss: 0.3603 - val_accuracy: 0.7188 - val_loss: 0.9815\n",
      "Epoch 13/15\n",
      "\u001b[1m1563/1563\u001b[0m \u001b[32m━━━━━━━━━━━━━━━━━━━━\u001b[0m\u001b[37m\u001b[0m \u001b[1m65s\u001b[0m 41ms/step - accuracy: 0.8813 - loss: 0.3300 - val_accuracy: 0.7181 - val_loss: 0.9779\n",
      "Epoch 14/15\n",
      "\u001b[1m1563/1563\u001b[0m \u001b[32m━━━━━━━━━━━━━━━━━━━━\u001b[0m\u001b[37m\u001b[0m \u001b[1m65s\u001b[0m 42ms/step - accuracy: 0.8907 - loss: 0.3021 - val_accuracy: 0.7134 - val_loss: 1.0692\n",
      "Epoch 15/15\n",
      "\u001b[1m1563/1563\u001b[0m \u001b[32m━━━━━━━━━━━━━━━━━━━━\u001b[0m\u001b[37m\u001b[0m \u001b[1m66s\u001b[0m 42ms/step - accuracy: 0.9002 - loss: 0.2766 - val_accuracy: 0.7160 - val_loss: 1.0702\n"
     ]
    },
    {
     "data": {
      "text/plain": [
       "<keras.src.callbacks.history.History at 0x237734df550>"
      ]
     },
     "execution_count": 11,
     "metadata": {},
     "output_type": "execute_result"
    }
   ],
   "source": [
    "model_improved.compile(optimizer='adam',\n",
    "                        loss='sparse_categorical_crossentropy',\n",
    "                        metrics=['accuracy'])\n",
    "\n",
    "model_improved.fit(x_train, y_train, epochs=15, validation_data=(x_test, y_test))"
   ]
  },
  {
   "cell_type": "markdown",
   "id": "727280cf-36f8-4974-bba3-9047a8a77f7e",
   "metadata": {},
   "source": [
    "## **LOG** : Evaluating the improved model.\n",
    "## We observe that the after modification the new models accuracy increased from 0.6973 to 0.7160."
   ]
  },
  {
   "cell_type": "code",
   "execution_count": 12,
   "id": "4502ff94-22eb-4f27-a4f1-220e9046d899",
   "metadata": {},
   "outputs": [
    {
     "name": "stdout",
     "output_type": "stream",
     "text": [
      "\u001b[1m313/313\u001b[0m \u001b[32m━━━━━━━━━━━━━━━━━━━━\u001b[0m\u001b[37m\u001b[0m \u001b[1m3s\u001b[0m 10ms/step - accuracy: 0.7223 - loss: 1.0503\n",
      "Improved Test accuracy: 0.7160\n"
     ]
    }
   ],
   "source": [
    "test_loss, test_acc = model_improved.evaluate(x_test, y_test)\n",
    "print(f\"Improved Test accuracy: {test_acc:.4f}\")"
   ]
  },
  {
   "cell_type": "markdown",
   "id": "ae108798-b9e6-4736-9af2-19aa54497914",
   "metadata": {},
   "source": [
    "### **REFERENCES** :\n",
    "### https://chatgpt.com/\n",
    "### https://www.perplexity.ai/\n",
    "### https://github.com/trekhleb/machine-learning-experiments"
   ]
  },
  {
   "cell_type": "markdown",
   "id": "c46443a6-2c70-4850-886e-a658021b9466",
   "metadata": {},
   "source": [
    "## **END**"
   ]
  },
  {
   "cell_type": "code",
   "execution_count": null,
   "id": "e2569687-259f-4366-b497-165c6282b3af",
   "metadata": {},
   "outputs": [],
   "source": []
  }
 ],
 "metadata": {
  "kernelspec": {
   "display_name": "Python 3 (ipykernel)",
   "language": "python",
   "name": "python3"
  },
  "language_info": {
   "codemirror_mode": {
    "name": "ipython",
    "version": 3
   },
   "file_extension": ".py",
   "mimetype": "text/x-python",
   "name": "python",
   "nbconvert_exporter": "python",
   "pygments_lexer": "ipython3",
   "version": "3.11.9"
  }
 },
 "nbformat": 4,
 "nbformat_minor": 5
}
